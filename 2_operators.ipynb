{
 "cells": [
  {
   "cell_type": "markdown",
   "id": "489d5927-48e2-49af-a7da-ae0d9ede760a",
   "metadata": {},
   "source": [
    "# Operators and Expressions in Python"
   ]
  },
  {
   "cell_type": "markdown",
   "id": "daac516c-0bcd-4592-9265-c5c1805bd947",
   "metadata": {},
   "source": [
    "## 1. Arithmatic operators \n",
    "+, -, *, **, /, //, %"
   ]
  },
  {
   "cell_type": "code",
   "execution_count": 4,
   "id": "c8d0a139-1b85-46f3-85a5-d7f780cb8262",
   "metadata": {},
   "outputs": [
    {
     "name": "stdout",
     "output_type": "stream",
     "text": [
      "8\n",
      "-2\n",
      "0.6\n",
      "0\n",
      "3\n",
      "15\n",
      "243\n"
     ]
    }
   ],
   "source": [
    "a = 3\n",
    "b = 5\n",
    "print(a+b)\n",
    "print(a-b)\n",
    "print(a/b)\n",
    "print(a//b)\n",
    "print(a%b)\n",
    "print(a*b)\n",
    "print(a**b) # square"
   ]
  },
  {
   "cell_type": "code",
   "execution_count": 2,
   "id": "6f45c62a-1a35-411a-b362-7a8121277ba3",
   "metadata": {},
   "outputs": [
    {
     "name": "stdout",
     "output_type": "stream",
     "text": [
      "3\n"
     ]
    }
   ],
   "source": [
    "print(15//4)"
   ]
  },
  {
   "cell_type": "code",
   "execution_count": 3,
   "id": "ea914e28-908a-4b02-bdfe-65a92b3c6fda",
   "metadata": {},
   "outputs": [
    {
     "name": "stdout",
     "output_type": "stream",
     "text": [
      "1\n"
     ]
    }
   ],
   "source": [
    "print(5%2)"
   ]
  },
  {
   "cell_type": "code",
   "execution_count": 5,
   "id": "b476b696-779a-41c0-8a7b-d3ddd8a6cfc8",
   "metadata": {},
   "outputs": [
    {
     "name": "stdout",
     "output_type": "stream",
     "text": [
      "Final Price after discount: 80.0\n"
     ]
    }
   ],
   "source": [
    "original_price = 100\n",
    "discount_percentage = 20\n",
    "\n",
    "discount_amount = (discount_percentage / 100) * original_price\n",
    "final_price = original_price - discount_amount\n",
    "\n",
    "print(\"Final Price after discount:\", final_price)"
   ]
  },
  {
   "cell_type": "markdown",
   "id": "6d28f6aa-610d-43e3-9107-49b04f0c3c61",
   "metadata": {},
   "source": [
    "## 2. Comparison Operators \n",
    "Used to compare values and return True or False."
   ]
  },
  {
   "cell_type": "code",
   "execution_count": 7,
   "id": "41b7923a-57a7-4363-8fd0-dcdc1a8a47e2",
   "metadata": {},
   "outputs": [
    {
     "name": "stdout",
     "output_type": "stream",
     "text": [
      "False\n"
     ]
    }
   ],
   "source": [
    "a = 5\n",
    "b = 7\n",
    "print(a==b) # eqaul to"
   ]
  },
  {
   "cell_type": "code",
   "execution_count": 8,
   "id": "e9cc0998-66e8-4015-b68c-a3e65766cbb3",
   "metadata": {},
   "outputs": [
    {
     "name": "stdout",
     "output_type": "stream",
     "text": [
      "True\n"
     ]
    }
   ],
   "source": [
    "print(a!=b) # not equal to "
   ]
  },
  {
   "cell_type": "code",
   "execution_count": 9,
   "id": "ae6ddb82-c29a-44ef-a336-7047ec802881",
   "metadata": {},
   "outputs": [
    {
     "name": "stdout",
     "output_type": "stream",
     "text": [
      "False\n"
     ]
    }
   ],
   "source": [
    "print(a > b)"
   ]
  },
  {
   "cell_type": "code",
   "execution_count": 10,
   "id": "6120d1f7-6d16-4299-a466-cc752d8209bc",
   "metadata": {},
   "outputs": [
    {
     "name": "stdout",
     "output_type": "stream",
     "text": [
      "True\n"
     ]
    }
   ],
   "source": [
    "print(a < b)"
   ]
  },
  {
   "cell_type": "code",
   "execution_count": 11,
   "id": "584d56a0-0f24-49f7-80aa-bb0e33555d3e",
   "metadata": {},
   "outputs": [
    {
     "name": "stdout",
     "output_type": "stream",
     "text": [
      "False\n"
     ]
    }
   ],
   "source": [
    "print(a >= b)"
   ]
  },
  {
   "cell_type": "code",
   "execution_count": 12,
   "id": "4e269f4d-9c58-4d46-9839-d4b55b0530eb",
   "metadata": {},
   "outputs": [
    {
     "name": "stdout",
     "output_type": "stream",
     "text": [
      "True\n"
     ]
    }
   ],
   "source": [
    "print(a <= b)"
   ]
  },
  {
   "cell_type": "code",
   "execution_count": 13,
   "id": "9a4283ef-f77c-412c-b21f-063f2100c30b",
   "metadata": {},
   "outputs": [
    {
     "name": "stdin",
     "output_type": "stream",
     "text": [
      "Enter your age:  27\n"
     ]
    },
    {
     "name": "stdout",
     "output_type": "stream",
     "text": [
      "Eligible to vote \n"
     ]
    }
   ],
   "source": [
    "# example\n",
    "age = int(input(\"Enter your age: \"))\n",
    "\n",
    "if age >= 18:\n",
    "    print(\"Eligible to vote \")\n",
    "else:\n",
    "    print(\"Not eligible to vote\")"
   ]
  },
  {
   "cell_type": "markdown",
   "id": "c6da5887-a616-44f1-8247-04d40b76687e",
   "metadata": {},
   "source": [
    "## 3. Logical Operators \n",
    "Used to combine multiple conditions. and, or, not"
   ]
  },
  {
   "cell_type": "code",
   "execution_count": 17,
   "id": "198da4a6-69bb-42bb-b11b-9d58e58cdfa1",
   "metadata": {},
   "outputs": [
    {
     "name": "stdin",
     "output_type": "stream",
     "text": [
      "how much is your salary:  30000\n"
     ]
    },
    {
     "name": "stdout",
     "output_type": "stream",
     "text": [
      "bnda not elgible for udhar \n"
     ]
    }
   ],
   "source": [
    "salary = int(input(\"how much is your salary: \"))\n",
    "credit_score = 450\n",
    "\n",
    "if salary > 40000 and credit_score > 350:\n",
    "    print(\"eligible for loan!\")\n",
    "else:\n",
    "    print(\"bnda not elgible for udhar \")"
   ]
  },
  {
   "cell_type": "markdown",
   "id": "34cfc6d3-7d2a-4db7-a0c5-e3e841371de7",
   "metadata": {},
   "source": [
    "## 4. Assignmnet Operators\n",
    "Used to assign values to variables."
   ]
  },
  {
   "cell_type": "code",
   "execution_count": 21,
   "id": "7f848e46-bf26-4a37-87bc-44a80f84d5ab",
   "metadata": {},
   "outputs": [
    {
     "name": "stdout",
     "output_type": "stream",
     "text": [
      "Final Balance: 1050\n"
     ]
    }
   ],
   "source": [
    "balance = 1000\n",
    "deposit = 200\n",
    "withdrawal = 150\n",
    "\n",
    "balance += deposit  # Adding deposit\n",
    "balance -= withdrawal  # Deducting withdrawal\n",
    "\n",
    "print(\"Final Balance:\", balance)"
   ]
  },
  {
   "cell_type": "markdown",
   "id": "2b14097e-08d0-49d5-8eb0-ac9d90addade",
   "metadata": {},
   "source": [
    "## 5. Identity Operators\n",
    "Used to compare memory locations of two objects."
   ]
  },
  {
   "cell_type": "code",
   "execution_count": 22,
   "id": "a0f2573b-8733-4783-9349-52963225f5e5",
   "metadata": {},
   "outputs": [
    {
     "name": "stdout",
     "output_type": "stream",
     "text": [
      "True\n",
      "False\n"
     ]
    }
   ],
   "source": [
    "x = [1, 2, 3]\n",
    "y = x  # Both point to the same memory location\n",
    "\n",
    "print(x is y)  # True\n",
    "print(x is not y)  # False\n"
   ]
  },
  {
   "cell_type": "markdown",
   "id": "05a85925-58f9-484f-a109-40339509a646",
   "metadata": {},
   "source": [
    "## 6. Membership Operators\n",
    "Used to check if a value exists in a sequence (list, tuple, dictionary, etc.). in, not in."
   ]
  },
  {
   "cell_type": "code",
   "execution_count": 23,
   "id": "a5c89000-1318-42ec-a58a-554d24459db8",
   "metadata": {},
   "outputs": [
    {
     "name": "stdout",
     "output_type": "stream",
     "text": [
      "Product is available!\n"
     ]
    }
   ],
   "source": [
    "products = [\"Laptop\", \"Phone\", \"Tablet\"]\n",
    "\n",
    "item = \"Phone\"\n",
    "\n",
    "if item not in products:\n",
    "    print(\"Product is available!\")\n",
    "else:\n",
    "    print(\"Product not found!\")\n"
   ]
  },
  {
   "cell_type": "code",
   "execution_count": null,
   "id": "9723b18e-c6d8-4faa-a910-bbdce0c984e7",
   "metadata": {},
   "outputs": [],
   "source": [
    "products = [\"Laptop\", \"Phone\", \"Tablet\"]\n",
    "\n",
    "item = \"Phone\"\n",
    "\n",
    "if item not in products:\n",
    "    print(\"Product is available!\")\n",
    "else:\n",
    "    print(\"Product not found!\")"
   ]
  }
 ],
 "metadata": {
  "kernelspec": {
   "display_name": "Python 3 (ipykernel)",
   "language": "python",
   "name": "python3"
  },
  "language_info": {
   "codemirror_mode": {
    "name": "ipython",
    "version": 3
   },
   "file_extension": ".py",
   "mimetype": "text/x-python",
   "name": "python",
   "nbconvert_exporter": "python",
   "pygments_lexer": "ipython3",
   "version": "3.13.2"
  }
 },
 "nbformat": 4,
 "nbformat_minor": 5
}
