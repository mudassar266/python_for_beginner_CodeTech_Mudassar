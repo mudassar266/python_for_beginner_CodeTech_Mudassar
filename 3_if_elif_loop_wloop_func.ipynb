{
 "cells": [
  {
   "cell_type": "markdown",
   "id": "f0946908-0f8d-4554-b540-0ddc165830d6",
   "metadata": {},
   "source": [
    "# if, elif, else"
   ]
  },
  {
   "cell_type": "code",
   "execution_count": 5,
   "id": "7f8023e0-787d-45d4-bd14-fbdf448814d8",
   "metadata": {},
   "outputs": [
    {
     "name": "stdin",
     "output_type": "stream",
     "text": [
      "enter the number:  6\n"
     ]
    },
    {
     "name": "stdout",
     "output_type": "stream",
     "text": [
      "number is positive.\n"
     ]
    }
   ],
   "source": [
    "# syntex \n",
    "\n",
    "num = int(input(\"enter the number: \"))\n",
    "\n",
    "if num > 0:\n",
    "    print(\"number is positive.\") \n",
    "elif num < 0:\n",
    "    print(\"number is negative.\")\n",
    "else:\n",
    "    print(\"number is zero.\") "
   ]
  },
  {
   "cell_type": "markdown",
   "id": "7ad477a0-c025-4c05-8457-6df2b006f418",
   "metadata": {},
   "source": [
    "# Loops \n",
    "**for loop**\n",
    "\n",
    "**while loop**"
   ]
  },
  {
   "cell_type": "code",
   "execution_count": 6,
   "id": "c93a241d-a7b2-4119-a28f-2d2724077c71",
   "metadata": {},
   "outputs": [
    {
     "name": "stdout",
     "output_type": "stream",
     "text": [
      "1\n",
      "2\n",
      "3\n",
      "4\n",
      "5\n",
      "6\n",
      "7\n",
      "8\n"
     ]
    }
   ],
   "source": [
    "# for loop \n",
    "for i in range(1 , 9):\n",
    "    print(i)\n",
    "    "
   ]
  },
  {
   "cell_type": "code",
   "execution_count": 7,
   "id": "407a9b3f-d00c-419c-84cc-0aad0a189b3f",
   "metadata": {},
   "outputs": [
    {
     "name": "stdout",
     "output_type": "stream",
     "text": [
      "10\n",
      "9\n",
      "8\n",
      "7\n",
      "6\n",
      "5\n",
      "4\n",
      "3\n",
      "2\n",
      "1\n"
     ]
    }
   ],
   "source": [
    "# while loop\n",
    "count = 10 \n",
    "\n",
    "while count > 0:\n",
    "    print(count)\n",
    "    count -= 1\n",
    "    "
   ]
  },
  {
   "cell_type": "markdown",
   "id": "3afda140-1d25-4272-be22-caf449b6155a",
   "metadata": {},
   "source": [
    "# functions "
   ]
  },
  {
   "cell_type": "code",
   "execution_count": 8,
   "id": "515456e3-9c5c-43e2-9190-0081866ff5f0",
   "metadata": {},
   "outputs": [],
   "source": [
    "def cal_area(l, w):\n",
    "    A = l * w\n",
    "    return A  # optional"
   ]
  },
  {
   "cell_type": "code",
   "execution_count": 9,
   "id": "b6883c86-0446-446a-821c-6bea311b7899",
   "metadata": {},
   "outputs": [
    {
     "name": "stdout",
     "output_type": "stream",
     "text": [
      "Area =  27\n"
     ]
    }
   ],
   "source": [
    "area = cal_area(9, 3)\n",
    "print(\"Area = \", area)"
   ]
  },
  {
   "cell_type": "code",
   "execution_count": 10,
   "id": "9885202d-e99d-47a9-b28a-1c7644ba6b7b",
   "metadata": {},
   "outputs": [],
   "source": [
    "def cal_vol(l, w, h):\n",
    "    V = l * w * h\n",
    "    return V\n"
   ]
  },
  {
   "cell_type": "code",
   "execution_count": 11,
   "id": "5f67b73d-3468-4021-ac0d-6f204728b092",
   "metadata": {},
   "outputs": [
    {
     "name": "stdout",
     "output_type": "stream",
     "text": [
      "volume =  27\n"
     ]
    }
   ],
   "source": [
    "volume = cal_vol(3, 3, 3)\n",
    "print(\"volume = \", volume)"
   ]
  },
  {
   "cell_type": "code",
   "execution_count": null,
   "id": "0a8780e9-4e5c-43ff-9c29-f98eafe9e9ae",
   "metadata": {},
   "outputs": [],
   "source": []
  }
 ],
 "metadata": {
  "kernelspec": {
   "display_name": "Python 3 (ipykernel)",
   "language": "python",
   "name": "python3"
  },
  "language_info": {
   "codemirror_mode": {
    "name": "ipython",
    "version": 3
   },
   "file_extension": ".py",
   "mimetype": "text/x-python",
   "name": "python",
   "nbconvert_exporter": "python",
   "pygments_lexer": "ipython3",
   "version": "3.13.2"
  }
 },
 "nbformat": 4,
 "nbformat_minor": 5
}
