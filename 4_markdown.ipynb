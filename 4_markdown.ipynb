{
 "cells": [
  {
   "cell_type": "markdown",
   "id": "dd6f01c1-e68c-4a4e-8aea-8efccd17a3eb",
   "metadata": {},
   "source": [
    "# Basic formating \n",
    "\n",
    "- bold kasay likhen gy ? **CodeTech Mudassar**.\n",
    "1. italic kasay likhen gy ? *CodeTech Mudassar*\n",
    "2. aik line likhi ja rhi hy or is mn aik code agya `print(\"codetech mudassar\")`.\n",
    "3. age pura block of code likhna ho to hum essa kren gy\n",
    "   ```python\n",
    "   print(\"codetech mudassar\")\n",
    "\n",
    "ab hum headings ko daikhty hen \n",
    "# 1st heading \n",
    "## 2nd heading \n",
    "### 3rd heading \n",
    "\n",
    "agr koe hyperlink kasy krty hen? [link yahan hy](https://scholar.google.com/)\n",
    "\n",
    "table kasay bnana hy \n",
    "\n",
    "------------------------\n",
    "\n",
    "| name | age | country |\n",
    "|------|-----|---------|\n",
    "|codetch| 4 | pak|\n",
    "|mudassar| 6 | pak |\n",
    "\n",
    "mathematical equation kasay likhen gy?\n",
    "\n",
    "$$E = mc^2$$\n"
   ]
  },
  {
   "cell_type": "code",
   "execution_count": null,
   "id": "b86dea54-d4be-44f4-aadb-e7a391e5ec0f",
   "metadata": {},
   "outputs": [],
   "source": []
  }
 ],
 "metadata": {
  "kernelspec": {
   "display_name": "Python 3 (ipykernel)",
   "language": "python",
   "name": "python3"
  },
  "language_info": {
   "codemirror_mode": {
    "name": "ipython",
    "version": 3
   },
   "file_extension": ".py",
   "mimetype": "text/x-python",
   "name": "python",
   "nbconvert_exporter": "python",
   "pygments_lexer": "ipython3",
   "version": "3.13.2"
  }
 },
 "nbformat": 4,
 "nbformat_minor": 5
}
