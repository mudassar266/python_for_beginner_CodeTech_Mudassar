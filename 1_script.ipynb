{
 "cells": [
  {
   "cell_type": "markdown",
   "id": "662b145c-e825-4db0-a3af-5bb56963b4e3",
   "metadata": {},
   "source": [
    "# List"
   ]
  },
  {
   "cell_type": "code",
   "execution_count": 10,
   "id": "45806ba7-e484-485f-94ec-8f5709b6186e",
   "metadata": {},
   "outputs": [
    {
     "name": "stdout",
     "output_type": "stream",
     "text": [
      "['apple', 'banana', 'cherry']\n"
     ]
    }
   ],
   "source": [
    "fruit = [\"apple\", \"banana\", \"cherry\"]\n",
    "print(fruit)"
   ]
  },
  {
   "cell_type": "code",
   "execution_count": 11,
   "id": "b735bd86-fbf0-4b05-8aca-0a0130164a1a",
   "metadata": {},
   "outputs": [
    {
     "name": "stdout",
     "output_type": "stream",
     "text": [
      "banana\n"
     ]
    }
   ],
   "source": [
    "print(fruit[1])"
   ]
  },
  {
   "cell_type": "code",
   "execution_count": 12,
   "id": "0409fad8-8c5b-4a8d-8023-96d21eff75bd",
   "metadata": {},
   "outputs": [
    {
     "name": "stdout",
     "output_type": "stream",
     "text": [
      "['apple', 'mango', 'cherry']\n"
     ]
    }
   ],
   "source": [
    "fruit[1] = \"mango\"\n",
    "print(fruit)"
   ]
  },
  {
   "cell_type": "code",
   "execution_count": 13,
   "id": "c846c643-8fa2-4fd4-8a75-8bc18b2c1407",
   "metadata": {},
   "outputs": [
    {
     "name": "stdout",
     "output_type": "stream",
     "text": [
      "['apple', 'mango', 'cherry', 'banana']\n"
     ]
    }
   ],
   "source": [
    "fruit.append(\"banana\")\n",
    "print(fruit)"
   ]
  },
  {
   "cell_type": "code",
   "execution_count": 14,
   "id": "f75b055e-46fb-4bb4-b5c7-5e26107009cb",
   "metadata": {},
   "outputs": [
    {
     "name": "stdout",
     "output_type": "stream",
     "text": [
      "['apple', 'cherry', 'banana']\n"
     ]
    }
   ],
   "source": [
    "fruit.remove(\"mango\")\n",
    "print(fruit)"
   ]
  },
  {
   "cell_type": "markdown",
   "id": "98ef7c31-3a9f-4a16-a2ba-cec78fb54571",
   "metadata": {},
   "source": [
    "# Slicing in List"
   ]
  },
  {
   "cell_type": "code",
   "execution_count": 15,
   "id": "8cfe192d-45da-42e2-a7d5-e0337d7e2c47",
   "metadata": {},
   "outputs": [
    {
     "name": "stdout",
     "output_type": "stream",
     "text": [
      "[10, 20]\n"
     ]
    }
   ],
   "source": [
    "numbers = [10, 20, 30, 40, 50]\n",
    "print(numbers[:2])"
   ]
  },
  {
   "cell_type": "code",
   "execution_count": 16,
   "id": "b8c86bf3-d9fa-4e7f-bdb2-8599eafc303f",
   "metadata": {},
   "outputs": [
    {
     "name": "stdout",
     "output_type": "stream",
     "text": [
      "[10, 20, 30, 40]\n"
     ]
    }
   ],
   "source": [
    "numbers = [10, 20, 30, 40, 50]\n",
    "print(numbers[:4])"
   ]
  },
  {
   "cell_type": "code",
   "execution_count": 17,
   "id": "e0cd42a5-6b12-4849-b56b-41264b68f447",
   "metadata": {},
   "outputs": [
    {
     "name": "stdout",
     "output_type": "stream",
     "text": [
      "[30, 40, 50]\n"
     ]
    }
   ],
   "source": [
    "numbers = [10, 20, 30, 40, 50]\n",
    "print(numbers[2:])"
   ]
  },
  {
   "cell_type": "code",
   "execution_count": 18,
   "id": "e1ce48a9-3800-418f-9d06-8b82cd8c000e",
   "metadata": {},
   "outputs": [
    {
     "name": "stdout",
     "output_type": "stream",
     "text": [
      "10\n",
      "20\n",
      "30\n",
      "40\n",
      "50\n"
     ]
    }
   ],
   "source": [
    "for num in numbers:\n",
    "    print(num)"
   ]
  },
  {
   "cell_type": "code",
   "execution_count": 19,
   "id": "86e79118-2a69-4257-b0bb-d725e88b0ffb",
   "metadata": {},
   "outputs": [
    {
     "name": "stdout",
     "output_type": "stream",
     "text": [
      "50\n"
     ]
    }
   ],
   "source": [
    "print(max(numbers))"
   ]
  },
  {
   "cell_type": "code",
   "execution_count": 20,
   "id": "43f6c4a7-801f-47d8-8c9a-38a7306563dd",
   "metadata": {},
   "outputs": [
    {
     "name": "stdout",
     "output_type": "stream",
     "text": [
      "10\n"
     ]
    }
   ],
   "source": [
    "print(min(numbers))"
   ]
  },
  {
   "cell_type": "markdown",
   "id": "c0803ae3-a76d-4273-a97e-67446d84e4d6",
   "metadata": {},
   "source": [
    "# Tuple\n",
    "**A tuple is an ordered, immutable collection of items. Tuples are similar to lists, but cannot be modified after creation**"
   ]
  },
  {
   "cell_type": "code",
   "execution_count": 21,
   "id": "abfaf3e1-3646-4150-bdea-99821cd78c71",
   "metadata": {},
   "outputs": [
    {
     "name": "stdout",
     "output_type": "stream",
     "text": [
      "green\n"
     ]
    }
   ],
   "source": [
    "colors = (\"red\", \"green\", \"blue\", \"yellow\")\n",
    "print(colors[1])"
   ]
  },
  {
   "cell_type": "code",
   "execution_count": 22,
   "id": "7058d31b-0d70-4aec-ad76-39cb4ba3d97e",
   "metadata": {},
   "outputs": [],
   "source": [
    "colors = (\"red\", \"green\", \"blue\", \"yellow\")\n",
    "colors_list = list(colors)"
   ]
  },
  {
   "cell_type": "code",
   "execution_count": 23,
   "id": "032a744e-b3c3-4b69-97ca-65dc81971e25",
   "metadata": {},
   "outputs": [
    {
     "data": {
      "text/plain": [
       "list"
      ]
     },
     "execution_count": 23,
     "metadata": {},
     "output_type": "execute_result"
    }
   ],
   "source": [
    "type(colors_list)"
   ]
  },
  {
   "cell_type": "code",
   "execution_count": 24,
   "id": "6b3a285f-fdb8-4c80-aff7-32843aebdacc",
   "metadata": {},
   "outputs": [
    {
     "data": {
      "text/plain": [
       "tuple"
      ]
     },
     "execution_count": 24,
     "metadata": {},
     "output_type": "execute_result"
    }
   ],
   "source": [
    "type(colors)"
   ]
  },
  {
   "cell_type": "code",
   "execution_count": 26,
   "id": "9e72cfff-2519-4ee2-a435-77d0dbefffa2",
   "metadata": {},
   "outputs": [
    {
     "name": "stdout",
     "output_type": "stream",
     "text": [
      "['red', 'green', 'blue', 'yellow', 'pink', 'pink']\n"
     ]
    }
   ],
   "source": [
    "colors_list.append(\"pink\")\n",
    "print(colors_list)"
   ]
  },
  {
   "cell_type": "code",
   "execution_count": 27,
   "id": "d39a5c9a-ac85-4890-ac3d-58c676cf26de",
   "metadata": {},
   "outputs": [
    {
     "name": "stdout",
     "output_type": "stream",
     "text": [
      "('red', 'green', 'blue', 'yellow', 'pink', 'pink')\n"
     ]
    }
   ],
   "source": [
    "colors = tuple(colors_list)\n",
    "print(colors)"
   ]
  },
  {
   "cell_type": "markdown",
   "id": "28b6e555-d61e-4398-ada4-4e061f6da027",
   "metadata": {},
   "source": [
    "# Range \n",
    "**A range generates a sequence of numbers.**"
   ]
  },
  {
   "cell_type": "code",
   "execution_count": 28,
   "id": "e221721e-4119-47f3-bf66-d09fd06d51da",
   "metadata": {},
   "outputs": [
    {
     "name": "stdout",
     "output_type": "stream",
     "text": [
      "[1, 2, 3, 4, 5, 6, 7, 8, 9, 10]\n"
     ]
    }
   ],
   "source": [
    "numbers = list(range(1,11))\n",
    "print(numbers)"
   ]
  },
  {
   "cell_type": "code",
   "execution_count": 29,
   "id": "483f1341-9538-4921-8a49-51ac629efd44",
   "metadata": {},
   "outputs": [
    {
     "name": "stdout",
     "output_type": "stream",
     "text": [
      "[2, 4, 6, 8, 10, 12, 14, 16, 18, 20]\n"
     ]
    }
   ],
   "source": [
    "numb = list(range(2, 21, 2))\n",
    "print(numb)"
   ]
  },
  {
   "cell_type": "code",
   "execution_count": 30,
   "id": "484b90b5-9203-44d5-b8b8-3eee03494de2",
   "metadata": {},
   "outputs": [
    {
     "name": "stdout",
     "output_type": "stream",
     "text": [
      "[2, 5, 8, 11, 14, 17, 20]\n"
     ]
    }
   ],
   "source": [
    "numb = list(range(2, 21, 3))\n",
    "print(numb)"
   ]
  },
  {
   "cell_type": "code",
   "execution_count": 31,
   "id": "babc1971-19d6-4077-a06a-73b873fe2c88",
   "metadata": {},
   "outputs": [
    {
     "name": "stdout",
     "output_type": "stream",
     "text": [
      "[3, 6, 9, 12, 15, 18]\n"
     ]
    }
   ],
   "source": [
    "numb = list(range(3, 21, 3))\n",
    "print(numb)"
   ]
  },
  {
   "cell_type": "markdown",
   "id": "6bc53d0e-b6cc-406c-82b7-be6a65e7a01b",
   "metadata": {},
   "source": [
    "# Dictionary (dict)\n",
    "**A dictionary stores key-value pairs. It is an unordered and mutable data structure.**"
   ]
  },
  {
   "cell_type": "code",
   "execution_count": 32,
   "id": "60ec4ab7-d6af-4c54-809b-16ea216cb3f2",
   "metadata": {},
   "outputs": [
    {
     "name": "stdout",
     "output_type": "stream",
     "text": [
      "Mudassar\n"
     ]
    }
   ],
   "source": [
    "student = {\n",
    "    \"name\": \"Mudassar\",\n",
    "    \"age\": 50,\n",
    "    \"course\": \"Machine Learning\"\n",
    "}\n",
    "print(student[\"name\"])  # Output: Mudassar\n"
   ]
  },
  {
   "cell_type": "code",
   "execution_count": 34,
   "id": "ff4471cb-7225-4882-ae5f-c9bf804f4070",
   "metadata": {},
   "outputs": [
    {
     "name": "stdout",
     "output_type": "stream",
     "text": [
      "50\n"
     ]
    }
   ],
   "source": [
    "print(student[\"age\"])"
   ]
  },
  {
   "cell_type": "code",
   "execution_count": null,
   "id": "fe0d601d-e375-4e13-97cf-f2203aced767",
   "metadata": {},
   "outputs": [],
   "source": []
  }
 ],
 "metadata": {
  "kernelspec": {
   "display_name": "Python 3 (ipykernel)",
   "language": "python",
   "name": "python3"
  },
  "language_info": {
   "codemirror_mode": {
    "name": "ipython",
    "version": 3
   },
   "file_extension": ".py",
   "mimetype": "text/x-python",
   "name": "python",
   "nbconvert_exporter": "python",
   "pygments_lexer": "ipython3",
   "version": "3.13.2"
  }
 },
 "nbformat": 4,
 "nbformat_minor": 5
}
